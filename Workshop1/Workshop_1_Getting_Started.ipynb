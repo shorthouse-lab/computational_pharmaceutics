{
 "cells": [
  {
   "cell_type": "markdown",
   "id": "1a921ebd-a77d-48ea-ba9e-b55120d4a794",
   "metadata": {},
   "source": [
    "# Workshop 1: Getting started with python in Jupyter notebooks"
   ]
  },
  {
   "cell_type": "markdown",
   "id": "2b96f92d-74ea-4aa6-b8d1-8d734b3d7dc5",
   "metadata": {},
   "source": [
    "This notebook is an introduction to python as part of the course on Computational Pharmaceutics. This workshop assumes no prior knowledge of python, and will get you started with the basics."
   ]
  },
  {
   "cell_type": "markdown",
   "id": "9a711fda-34a0-4eb4-947f-df50f210f655",
   "metadata": {},
   "source": [
    "### Jupyter"
   ]
  },
  {
   "cell_type": "markdown",
   "id": "c5be1aa6-eff5-4008-8d89-80dc965f86a9",
   "metadata": {},
   "source": [
    "Jupyter is a piece of software that allows you to execute code in a web browser such as chrome, firefox, safari etc. and we are going to use it to run python code. The advantage of these notebooks is that they can be readily shared, and the outputs of the code are printed around the cells in the notebook. These books contain \"markdown\" which is a fancy way of saying text and images.\n",
    "\n",
    "You can use the buttons at the top of the page (underneath \"File\", \"Edit\" etc.) to create new cells, save the document, and run cells (triangle).\n",
    "\n",
    "There is a comprehensive introduction to jupyter (30 mins long) here: https://www.youtube.com/watch?v=HW29067qVWk&t=9s \n",
    "\n",
    "Python is written to be reasonably understandable, and this workshop will get you to grips with running it in jupyter."
   ]
  },
  {
   "cell_type": "markdown",
   "id": "74be091b-9ee1-48fa-aa0a-e91b44662099",
   "metadata": {},
   "source": [
    "### Running cells in python"
   ]
  },
  {
   "cell_type": "markdown",
   "id": "bfbfdec7-9489-4895-8a9b-d8558409837e",
   "metadata": {},
   "source": [
    "To begin, the \"print\" command will print everything in the brackets after it. You can see that the text is in quotes \" \". Quotes are used to wrap text into a \"string\" which is a type of variable. Note that in the cell below, the text in the quotes has gone red - this is jupyter telling you that it is a text string rather than code .\n",
    "\n",
    "You can run the cell below with the play button above, or by pressing ctrl + enter."
   ]
  },
  {
   "cell_type": "code",
   "execution_count": 4,
   "id": "c594abff",
   "metadata": {},
   "outputs": [
    {
     "name": "stdout",
     "output_type": "stream",
     "text": [
      "Hello\n"
     ]
    }
   ],
   "source": [
    "print(\"Hello\")"
   ]
  },
  {
   "cell_type": "markdown",
   "id": "f74cc4b6-7d68-4da0-8b7a-b6ebb3089f8e",
   "metadata": {},
   "source": [
    "## Simple functions and operations"
   ]
  },
  {
   "cell_type": "markdown",
   "id": "1ee5b0a0-fd36-459c-9481-23d2e48de89a",
   "metadata": {},
   "source": [
    "Basic mathematical operations are built into python. Note some ways of doing operations:\n",
    "\n",
    "+ plus: `+`\n",
    "+ minus: `-`\n",
    "+ multiply: `*`\n",
    "+ divide: `/`\n",
    "+ exponent: `**`"
   ]
  },
  {
   "cell_type": "markdown",
   "id": "edf3e77f-6b10-417c-83ca-c5f70eea5c41",
   "metadata": {},
   "source": [
    "Below we are storing a variable with a name, and we can call that name in later line of code"
   ]
  },
  {
   "cell_type": "code",
   "execution_count": 7,
   "id": "774662c4-44c8-4184-ad87-45c044da5558",
   "metadata": {},
   "outputs": [
    {
     "name": "stdout",
     "output_type": "stream",
     "text": [
      "14\n",
      "6.0\n",
      "144\n"
     ]
    }
   ],
   "source": [
    "## Everything after a # is a comment - and wont be read by python ##\n",
    "\n",
    "# We store two numbers in the variables 'a' and 'b'\n",
    "a = 12\n",
    "b = 2\n",
    "\n",
    "# We perform some simple mathematical operations on those two variables\n",
    "print(a + b)\n",
    "print(a/b)\n",
    "print(a**b)"
   ]
  },
  {
   "cell_type": "markdown",
   "id": "9dcdafe0-0180-473e-ac8d-896288d892f1",
   "metadata": {},
   "source": [
    "### Variables"
   ]
  },
  {
   "cell_type": "markdown",
   "id": "f6c0a9bb-c848-4e8d-8bb2-b5f35207bc2e",
   "metadata": {},
   "source": [
    "Python has different types of \"variables\" which python can infer automatically. They are:\n",
    "\n",
    "+ strings (text)\n",
    "+ integers (whole numbers)\n",
    "+ floats (decimal numbers)\n",
    "+ booleans (True/False)"
   ]
  },
  {
   "cell_type": "code",
   "execution_count": 9,
   "id": "c97e5079-8817-4320-bd63-003db154e082",
   "metadata": {},
   "outputs": [
    {
     "name": "stdout",
     "output_type": "stream",
     "text": [
      "Aspirin 50 325.0 False\n"
     ]
    }
   ],
   "source": [
    "# String (text)\n",
    "drug_name = \"Aspirin\"\n",
    "\n",
    "# Integer (whole number)\n",
    "pill_count = 50\n",
    "\n",
    "# Float (decimal number)\n",
    "dosage_mg = 325.0\n",
    "\n",
    "# Boolean (True/False)\n",
    "is_prescription_needed = False\n",
    "\n",
    "# Print can take multiple inputs and will print them out seperated by a space\n",
    "print(drug_name, pill_count, dosage_mg, is_prescription_needed)"
   ]
  },
  {
   "cell_type": "markdown",
   "id": "63abc372-b860-478a-bbc5-fee1014841fe",
   "metadata": {},
   "source": [
    "## Data structures"
   ]
  },
  {
   "cell_type": "markdown",
   "id": "fee0c1ba-4c84-4369-bab5-dcf5ffb72b96",
   "metadata": {},
   "source": [
    "Data can be stored and accessed through different types of structure. These are:\n",
    "\n",
    "+ Lists\n",
    "+ Tuples\n",
    "+ Dictionaries"
   ]
  },
  {
   "cell_type": "markdown",
   "id": "f7bdac1c-cfa4-406a-84b5-9450cbd267a4",
   "metadata": {},
   "source": [
    "#### Lists"
   ]
  },
  {
   "cell_type": "markdown",
   "id": "7b52a596-fd91-41aa-a26e-66370e7f29dc",
   "metadata": {},
   "source": [
    "Lists are ordered (the order of items is stored and matters), and they are \"mutable\" (we can change them). We can access items in these structures using \"indexing\", where you follow the name of the list with square brackets and the number of the item you want to access (eg. [2]).\n",
    "\n",
    "Note however - python starts counting from Zero (0). So to access the first item in our list of drugs we use: `drugs[0]`\n",
    "\n",
    "There is a more comprehensive video on lists available on youtube from Khan academy: https://www.youtube.com/watch?v=zEyEC34MY1A"
   ]
  },
  {
   "cell_type": "code",
   "execution_count": 21,
   "id": "79a2b128-e8d4-48ec-9f79-576c8b7ca84a",
   "metadata": {},
   "outputs": [
    {
     "name": "stdout",
     "output_type": "stream",
     "text": [
      "['Aspirin', 'Ibuprofen', 'Paracetamol']\n"
     ]
    }
   ],
   "source": [
    "# We make a list of drugs\n",
    "drugs = [\"Aspirin\", \"Ibuprofen\", \"Paracetamol\"]\n",
    "\n",
    "# This prints the whole list\n",
    "print(drugs)             "
   ]
  },
  {
   "cell_type": "code",
   "execution_count": 22,
   "id": "56a2fbc5-fc18-4ff8-beb3-f9e482d3edae",
   "metadata": {},
   "outputs": [
    {
     "name": "stdout",
     "output_type": "stream",
     "text": [
      "Ibuprofen\n"
     ]
    }
   ],
   "source": [
    "# We can access individual items in the list with \"indexing\". Notice this is the second item in the list\n",
    "print(drugs[1])         "
   ]
  },
  {
   "cell_type": "code",
   "execution_count": 23,
   "id": "7cadebce-a2f7-4e5a-be51-288adacd7a75",
   "metadata": {},
   "outputs": [
    {
     "name": "stdout",
     "output_type": "stream",
     "text": [
      "['Aspirin', 'Ibuprofen', 'Paracetamol', 'Metformin']\n"
     ]
    }
   ],
   "source": [
    "# We can add to the list with \"append\" - if you run this cell repeatedly it will extend the list\n",
    "drugs.append(\"Metformin\")\n",
    "print(drugs)"
   ]
  },
  {
   "cell_type": "markdown",
   "id": "a1a5786b-3bb0-4f8b-83ca-1322e05b6701",
   "metadata": {},
   "source": [
    "#### Tuples"
   ]
  },
  {
   "cell_type": "markdown",
   "id": "51a10455-c72b-4766-9bd5-09d4ad07bfb2",
   "metadata": {},
   "source": [
    "Tuples are ordered (the order of the items is stored and matters), and they are \"immutable\" (you cannot change them). They are often used to store eg. 3D coordinates or the RGB (Red, Green, Blue) values of colours. "
   ]
  },
  {
   "cell_type": "code",
   "execution_count": 24,
   "id": "761aacda-9455-487a-8271-078df89ef664",
   "metadata": {},
   "outputs": [
    {
     "name": "stdout",
     "output_type": "stream",
     "text": [
      "(0, 10, 15)\n"
     ]
    }
   ],
   "source": [
    "# Tuples use rounded brackets\n",
    "coordinates = (0, 10, 15)\n",
    "print(coordinates)"
   ]
  },
  {
   "cell_type": "markdown",
   "id": "1d28c2ad-e608-49c8-96f2-3e4e24fc5966",
   "metadata": {},
   "source": [
    "#### Dictionaries"
   ]
  },
  {
   "cell_type": "markdown",
   "id": "78d4b829-a07a-404c-9509-4dd6ca07c5f2",
   "metadata": {},
   "source": [
    "Dictionaries store data in key:value pairs - you can access the value by giving it the key"
   ]
  },
  {
   "cell_type": "code",
   "execution_count": 28,
   "id": "85326794-4597-4f75-97e7-9f8c38619b09",
   "metadata": {},
   "outputs": [
    {
     "name": "stdout",
     "output_type": "stream",
     "text": [
      "{'name': 'Metformin', 'dose_mg': 500, 'class': 'Biguanide'}\n"
     ]
    }
   ],
   "source": [
    "# We make dictionaries with curly braces { } \n",
    "drug_info = {\n",
    "    \"name\": \"Metformin\",\n",
    "    \"dose_mg\": 500,\n",
    "    \"class\": \"Biguanide\"\n",
    "}\n",
    "print(drug_info)"
   ]
  },
  {
   "cell_type": "code",
   "execution_count": 26,
   "id": "d7028448-4df4-4cb3-9477-ede7393271cc",
   "metadata": {},
   "outputs": [
    {
     "name": "stdout",
     "output_type": "stream",
     "text": [
      "500\n"
     ]
    }
   ],
   "source": [
    "# We can print a specific value by giving it the key\n",
    "print(drug_info[\"dose_mg\"]) "
   ]
  },
  {
   "cell_type": "code",
   "execution_count": 27,
   "id": "8d6dd5a3-9791-4aaf-9047-c96111b6e423",
   "metadata": {},
   "outputs": [
    {
     "name": "stdout",
     "output_type": "stream",
     "text": [
      "{'name': 'Metformin', 'dose_mg': 500, 'class': 'Biguanide', 'generic': True}\n"
     ]
    }
   ],
   "source": [
    "# We can add a new key-value pair\n",
    "drug_info[\"generic\"] = True\n",
    "print(drug_info)"
   ]
  },
  {
   "cell_type": "markdown",
   "id": "fd27d5bd-87d6-43fd-ac66-f96ad4b06d23",
   "metadata": {},
   "source": [
    "Most python code involves making and manipulating these kinds of data structures"
   ]
  },
  {
   "cell_type": "markdown",
   "id": "f2c0012b-1458-4708-9c0c-ac127c4ea1d7",
   "metadata": {},
   "source": [
    "## Libraries"
   ]
  },
  {
   "cell_type": "markdown",
   "id": "dacf927f-a9e9-41de-a3d3-033a7a3ec215",
   "metadata": {},
   "source": [
    "Python only has very basic functions by default - if you want to do anything more complex you generally need to load various libraries. The library `numpy` contains loads of convenient maths functions we can use. We import libraries with a name, and then can use the functions this library contains."
   ]
  },
  {
   "cell_type": "code",
   "execution_count": 29,
   "id": "513f457b-e907-42be-a453-61540aad9d60",
   "metadata": {},
   "outputs": [
    {
     "name": "stdout",
     "output_type": "stream",
     "text": [
      "3.141592653589793\n"
     ]
    }
   ],
   "source": [
    "# We load the numpy library\n",
    "import numpy as np\n",
    "\n",
    "# Numpy contains eg. a function for pi\n",
    "print(np.pi)"
   ]
  },
  {
   "cell_type": "code",
   "execution_count": 32,
   "id": "b43e0543-3163-4954-ac42-28ac948dd191",
   "metadata": {},
   "outputs": [
    {
     "name": "stdout",
     "output_type": "stream",
     "text": [
      "0.9854497299884601\n"
     ]
    }
   ],
   "source": [
    "# Eg. simple trigonometry\n",
    "angle = 1.4\n",
    "\n",
    "print(np.sin(angle))"
   ]
  },
  {
   "cell_type": "code",
   "execution_count": 35,
   "id": "4c22efe4-ec8b-48e9-9cb0-7a2476013e7c",
   "metadata": {},
   "outputs": [
    {
     "name": "stdout",
     "output_type": "stream",
     "text": [
      "30\n"
     ]
    }
   ],
   "source": [
    "# We can do things like add up all the items in a list using numpy\n",
    "numbers = [2, 4, 1, 8, 15]\n",
    "\n",
    "print(np.sum(numbers))"
   ]
  },
  {
   "cell_type": "markdown",
   "id": "e373cac3-e472-4708-8d98-935d0057a64d",
   "metadata": {
    "jp-MarkdownHeadingCollapsed": true
   },
   "source": [
    "Almost all data science is done using libraries than contain specific functions for manipulating data, fitting models, and making graphs"
   ]
  },
  {
   "cell_type": "markdown",
   "id": "4e0f2cd5-f7e6-4764-bf70-9d5156019ed5",
   "metadata": {},
   "source": [
    "## Control and flow"
   ]
  },
  {
   "cell_type": "markdown",
   "id": "73f04719-04eb-457e-b1a0-a3c363325e94",
   "metadata": {},
   "source": [
    "In python you can use control and flow statements to iterate over items in lists, to perform checks on data, and check conditions of data."
   ]
  },
  {
   "cell_type": "markdown",
   "id": "f98cfe5f-1e6b-4485-b7f9-681c1d2f3132",
   "metadata": {},
   "source": [
    "#### If, else, elif"
   ]
  },
  {
   "cell_type": "markdown",
   "id": "72c012c8-e967-4479-be9f-36c96b83c6b2",
   "metadata": {},
   "source": [
    "These let you check statements and see if they are true for example:\n",
    "\n",
    "`if size <= 50:`\n",
    "\n",
    "Checks whether the variable \"size\" is less than or equal to 50"
   ]
  },
  {
   "cell_type": "code",
   "execution_count": 42,
   "id": "a146e2bc",
   "metadata": {},
   "outputs": [
    {
     "name": "stdout",
     "output_type": "stream",
     "text": [
      "Nanoparticle is just right\n"
     ]
    }
   ],
   "source": [
    "# Change this number and see how the set of statements respond\n",
    "size = 200\n",
    "\n",
    "# This if statement checks if the size is below 50 nm, if so it prints the statement and then ends\n",
    "if size <= 50:\n",
    "    print(\"Nanoparticle is too small\")\n",
    "    \n",
    "# This is an \"else if\" statement - if the first statement is false, it will check if this one is true or not\n",
    "elif size <= 200:\n",
    "    print(\"Nanoparticle is just right\")\n",
    "    \n",
    "# If neither of the above statements are activated - this one will run\n",
    "else:\n",
    "    print(\"Nanoparticle is too big\")"
   ]
  },
  {
   "cell_type": "markdown",
   "id": "9e7e2197-d8a6-441d-ba8e-f5c78fcf4ae3",
   "metadata": {},
   "source": [
    "Notice that after the if or else statement, the code in indented - this is important, and necessary for it to work."
   ]
  },
  {
   "cell_type": "markdown",
   "id": "1fc56ab3-6f7b-4564-9fba-ddcb0be1fc81",
   "metadata": {},
   "source": [
    "### Task:\n",
    "\n",
    "Write some code to print out whether a patients blood levels of a drug are within the therapeutic range where:\n",
    "\n",
    "- The lower limit is 5ug/ml\n",
    "- The upper limit is 15ug/ml\n",
    "\n",
    "For a patient with 12.5ug/ml the code should print (\"Dose within the therapeutic range\"), and for patients higher of lower, a message warning of under or overdosing should print."
   ]
  },
  {
   "cell_type": "code",
   "execution_count": 2,
   "id": "ab7d73d3-4769-46a7-920a-625457679350",
   "metadata": {},
   "outputs": [],
   "source": [
    "## Enter your code here"
   ]
  },
  {
   "cell_type": "markdown",
   "id": "3302ea5e-caec-4fb2-8577-a64aa4e26b5e",
   "metadata": {},
   "source": [
    "#### For loops"
   ]
  },
  {
   "cell_type": "markdown",
   "id": "4825f64b-0d7d-47e3-9e85-955985df1c7b",
   "metadata": {},
   "source": [
    "For loops let you \"iterate\" over a collection of items like a list"
   ]
  },
  {
   "cell_type": "code",
   "execution_count": 43,
   "id": "9d227a9f-d5b6-4715-a08f-0c2e20d45198",
   "metadata": {},
   "outputs": [],
   "source": [
    "# We make a list of drugs\n",
    "drugs = [\"Aspirin\", \"Ibuprofen\", \"Paracetamol\"]"
   ]
  },
  {
   "cell_type": "code",
   "execution_count": 44,
   "id": "bafc8d58-3057-42ec-8f2a-5a8c26bfc991",
   "metadata": {},
   "outputs": [
    {
     "name": "stdout",
     "output_type": "stream",
     "text": [
      "Aspirin\n",
      "Ibuprofen\n",
      "Paracetamol\n"
     ]
    }
   ],
   "source": [
    "# We print each item in the list individually\n",
    "for drug in drugs:\n",
    "    print(drug)"
   ]
  },
  {
   "cell_type": "markdown",
   "id": "12278a0f-2b25-4b1e-bdbc-cce90a6db67b",
   "metadata": {},
   "source": [
    "It is very common to use for loops to iterate through eg. time points"
   ]
  },
  {
   "cell_type": "code",
   "execution_count": 82,
   "id": "4f6266ac-c413-4a1c-ac00-d3e8b1ffa146",
   "metadata": {},
   "outputs": [
    {
     "name": "stdout",
     "output_type": "stream",
     "text": [
      "Time: 0\n",
      "Time: 1\n",
      "Time: 2\n",
      "Time: 3\n",
      "Time: 4\n",
      "Time: 5\n",
      "Time: 6\n",
      "Time: 7\n",
      "Time: 8\n",
      "Time: 9\n"
     ]
    }
   ],
   "source": [
    "for time in range(0,10):\n",
    "    print(\"Time: \" + str(time))"
   ]
  },
  {
   "cell_type": "markdown",
   "id": "d01451e8-ef31-4454-8b62-6ca02d07eee4",
   "metadata": {},
   "source": [
    "#### While loops"
   ]
  },
  {
   "cell_type": "markdown",
   "id": "aa1c7f43-905d-465e-8154-f8e77bf4e2a3",
   "metadata": {},
   "source": [
    "While loops activate and interate for as long as the condition is true, so as long as: \n",
    "\n",
    "`while inventory >= daily_dose:` \n",
    "\n",
    "is true - the loop will continue iterating"
   ]
  },
  {
   "cell_type": "code",
   "execution_count": 52,
   "id": "fa4c64fd-8c43-425b-b9e0-fd0c43de1960",
   "metadata": {},
   "outputs": [
    {
     "name": "stdout",
     "output_type": "stream",
     "text": [
      "Day 1\n",
      "Pills remaining: 7\n",
      "Day 2\n",
      "Pills remaining: 5\n",
      "Day 3\n",
      "Pills remaining: 3\n",
      "Day 4\n",
      "Pills remaining: 1\n"
     ]
    }
   ],
   "source": [
    "inventory = 9  # total pills in stock\n",
    "daily_dose = 2   # how many pills given each day\n",
    "day = 1 # what day is it\n",
    "\n",
    "# Initiate the while loop\n",
    "while inventory >= daily_dose:\n",
    "    # We print the day - str(day) converts the day from an integer to a string so we can print it\n",
    "    print(\"Day \" + str(day))\n",
    "    # We remove the daily dose from the inventory\n",
    "    inventory -= daily_dose\n",
    "    # We print the number of pills left in the inventory\n",
    "    print(\"Pills remaining: \" + str(inventory))\n",
    "    # We increase the day and the loop starts again\n",
    "    day += 1"
   ]
  },
  {
   "cell_type": "markdown",
   "id": "0995c209-bad1-446f-8370-03638c64ac44",
   "metadata": {},
   "source": [
    "## Combining control statements\n",
    "\n",
    "We can combine these statements together - for example you can use a for loop to go through a list or dictionary, and then use an if-else statement to print out the result for every item in the list.\n",
    "\n",
    "Here's an example of iterating through a list of storage temperatures of a drug with a for loop, and then checking if it is over or under a stability threshold:"
   ]
  },
  {
   "cell_type": "code",
   "execution_count": 4,
   "id": "43d0da0b-9331-42fb-bae9-6954edba73c8",
   "metadata": {},
   "outputs": [
    {
     "name": "stdout",
     "output_type": "stream",
     "text": [
      "At 20°C: Stable\n",
      "At 22°C: Stable\n",
      "At 26°C: Unstable\n",
      "At 30°C: Unstable\n",
      "At 24°C: Stable\n",
      "At 19°C: Stable\n"
     ]
    }
   ],
   "source": [
    "# List of storage temperatures (in °C)\n",
    "storage_temps = [20, 22, 26, 30, 24, 19]\n",
    "\n",
    "# Stability threshold\n",
    "max_temp = 25\n",
    "\n",
    "# Check stability for each temperature\n",
    "for temp in storage_temps: # For loop\n",
    "    if temp <= max_temp: # If-else statement\n",
    "        print(f\"At {temp}°C: Stable\") # The way this print statement is written will insert the temperature at {temp}\n",
    "    else:\n",
    "        print(f\"At {temp}°C: Unstable\")"
   ]
  },
  {
   "cell_type": "markdown",
   "id": "13cf1106-6822-43b7-baaa-1e7989336070",
   "metadata": {},
   "source": [
    "### Task\n",
    "\n",
    "You are working in a pharmacy and are taking stock of the amounts of drugs - the stocks are listed below.\n",
    "\n",
    "Write a for loop that goes through the dictionary and prints out whether the drug stock is low or acceptable. You will need to access the values in the dictionary - this is done through providing two options to the for loop like this:\n",
    "\n",
    "`for drug, level in drug inventory:`"
   ]
  },
  {
   "cell_type": "code",
   "execution_count": 5,
   "id": "c96699c5-f20a-4321-9f4f-5ee58e8b3fe6",
   "metadata": {},
   "outputs": [],
   "source": [
    "# List of drugs and their inventory levels\n",
    "drug_inventory = {\n",
    "    \"Paracetamol\": 120,\n",
    "    \"Ibuprofen\": 45,\n",
    "    \"Amoxicillin\": 30,\n",
    "    \"Metformin\": 75,\n",
    "    \"Atorvastatin\": 20\n",
    "}"
   ]
  },
  {
   "cell_type": "code",
   "execution_count": 6,
   "id": "b31a6d62-9eba-48f1-8e72-ab5bc26f0020",
   "metadata": {},
   "outputs": [],
   "source": [
    "## Write your for loop here"
   ]
  },
  {
   "cell_type": "markdown",
   "id": "699f0292-122a-4b50-ae97-59a2931eb83e",
   "metadata": {},
   "source": [
    "## Functions"
   ]
  },
  {
   "cell_type": "markdown",
   "id": "ce2524d5-b3f2-4a42-88cc-f5c304eada97",
   "metadata": {},
   "source": [
    "Finally - you can wrap python code up into a \"function\". A function is a block of code that you name, and can be used over again in other pieces of code. In the example below we write a function called \"BMI\" which takes as input a weight (in kg) and height (in meters), and returns the BMI for a patient"
   ]
  },
  {
   "cell_type": "code",
   "execution_count": 99,
   "id": "7ee1f3ad-a7a9-4f32-b5e4-84d261bbf45e",
   "metadata": {},
   "outputs": [],
   "source": [
    "def calculate_bmi(weight, height): # We use \"def\" to define a function with a name and its inputs\n",
    "    bmi = weight / height ** 2 #Equation for BMI\n",
    "    return bmi # Return is what the function gives as an output"
   ]
  },
  {
   "cell_type": "code",
   "execution_count": 100,
   "id": "4ea2232a-970e-4850-9e9d-6a6070a618a1",
   "metadata": {},
   "outputs": [
    {
     "data": {
      "text/plain": [
       "22.857142857142858"
      ]
     },
     "execution_count": 100,
     "metadata": {},
     "output_type": "execute_result"
    }
   ],
   "source": [
    "calculate_bmi(70, 1.75)"
   ]
  },
  {
   "cell_type": "markdown",
   "id": "ac08feee-fa46-45c5-8a71-b7c4d3282709",
   "metadata": {},
   "source": [
    "These functions can get very complicated - but the advantage is that now we can use `calculate_bmi` in any other cell in this notebook"
   ]
  },
  {
   "cell_type": "markdown",
   "id": "c7b1dd58-2c0e-4f5d-a840-91e8cba3b72a",
   "metadata": {},
   "source": [
    "# Example: Calculating drug dissolution from a tablet"
   ]
  },
  {
   "cell_type": "markdown",
   "id": "1ada0d39-7a0e-42b1-83b3-d6bb3691421d",
   "metadata": {},
   "source": [
    "Here is a simple example of using python to calculate the dissolution of a drug from a tablet\n",
    "\n",
    "The amount of drug dissolved from a tablet is related to:\n",
    "\n",
    "+ $C$: Concentration of drug at time $t$ (mg/ml)\n",
    "+ $k$: Dissolution rate constant (L/min)\n",
    "+ $A$: Surface area of the drug particle (cm$^2$)\n",
    "+ $C_s$: Saturation concentration of the drug (mg/L)\n",
    "+ $V$: Volume of the dissolution medium (L)\n",
    "\n",
    "Which are then related with the Noyes-Whitney equation:\n",
    "\n",
    "\n",
    "\n",
    "$\\LARGE\\frac{dC}{dt} = \\frac{kA (C_s - C)}{V}$\n",
    "\n",
    "We can solve this equation over time using python"
   ]
  },
  {
   "cell_type": "code",
   "execution_count": 80,
   "id": "81d30e7c-c168-43c2-9a38-d1dde93bd222",
   "metadata": {},
   "outputs": [
    {
     "name": "stdout",
     "output_type": "stream",
     "text": [
      "Time: 0.0 Concentration: 1.6\n",
      "Time: 0.1 Concentration: 3.07\n",
      "Time: 0.2 Concentration: 4.43\n",
      "Time: 0.3 Concentration: 5.67\n",
      "Time: 0.4 Concentration: 6.82\n",
      "Time: 0.5 Concentration: 7.87\n",
      "Time: 0.6 Concentration: 8.84\n",
      "Time: 0.7 Concentration: 9.74\n",
      "Time: 0.8 Concentration: 10.56\n",
      "Time: 0.9 Concentration: 11.31\n",
      "Time: 1.0 Concentration: 12.01\n",
      "Time: 1.1 Concentration: 12.65\n",
      "Time: 1.2 Concentration: 13.23\n",
      "Time: 1.3 Concentration: 13.78\n",
      "Time: 1.4 Concentration: 14.27\n",
      "Time: 1.5 Concentration: 14.73\n",
      "Time: 1.6 Concentration: 15.15\n",
      "Time: 1.7 Concentration: 15.54\n",
      "Time: 1.8 Concentration: 15.9\n",
      "Time: 1.9 Concentration: 16.23\n",
      "Time: 2.0 Concentration: 16.53\n",
      "Time: 2.1 Concentration: 16.81\n",
      "Time: 2.2 Concentration: 17.06\n",
      "Time: 2.3 Concentration: 17.3\n",
      "Time: 2.4 Concentration: 17.51\n",
      "Time: 2.5 Concentration: 17.71\n",
      "Time: 2.6 Concentration: 17.89\n",
      "Time: 2.7 Concentration: 18.06\n",
      "Time: 2.8 Concentration: 18.22\n",
      "Time: 2.9 Concentration: 18.36\n",
      "Time: 3.0 Concentration: 18.49\n",
      "Time: 3.1 Concentration: 18.61\n",
      "Time: 3.2 Concentration: 18.72\n",
      "Time: 3.3 Concentration: 18.83\n",
      "Time: 3.4 Concentration: 18.92\n",
      "Time: 3.5 Concentration: 19.01\n",
      "Time: 3.6 Concentration: 19.09\n",
      "Time: 3.7 Concentration: 19.16\n",
      "Time: 3.8 Concentration: 19.23\n",
      "Time: 3.9 Concentration: 19.29\n",
      "Time: 4.0 Concentration: 19.34\n",
      "Time: 4.1 Concentration: 19.4\n",
      "Time: 4.2 Concentration: 19.45\n",
      "Time: 4.3 Concentration: 19.49\n",
      "Time: 4.4 Concentration: 19.53\n",
      "Time: 4.5 Concentration: 19.57\n",
      "Time: 4.6 Concentration: 19.6\n",
      "Time: 4.7 Concentration: 19.63\n",
      "Time: 4.8 Concentration: 19.66\n",
      "Time: 4.9 Concentration: 19.69\n",
      "Time: 5.0 Concentration: 19.72\n",
      "Time: 5.1 Concentration: 19.74\n",
      "Time: 5.2 Concentration: 19.76\n",
      "Time: 5.3 Concentration: 19.78\n",
      "Time: 5.4 Concentration: 19.8\n",
      "Time: 5.5 Concentration: 19.81\n",
      "Time: 5.6 Concentration: 19.83\n",
      "Time: 5.7 Concentration: 19.84\n",
      "Time: 5.8 Concentration: 19.85\n",
      "Time: 5.9 Concentration: 19.87\n",
      "Time: 6.0 Concentration: 19.88\n",
      "Time: 6.1 Concentration: 19.89\n",
      "Time: 6.2 Concentration: 19.9\n",
      "Time: 6.3 Concentration: 19.9\n",
      "Time: 6.4 Concentration: 19.91\n",
      "Time: 6.5 Concentration: 19.92\n",
      "Time: 6.6 Concentration: 19.93\n",
      "Time: 6.7 Concentration: 19.93\n",
      "Time: 6.8 Concentration: 19.94\n",
      "Time: 6.9 Concentration: 19.94\n",
      "Time: 7.0 Concentration: 19.95\n",
      "Time: 7.1 Concentration: 19.95\n",
      "Time: 7.2 Concentration: 19.95\n",
      "Time: 7.3 Concentration: 19.96\n",
      "Time: 7.4 Concentration: 19.96\n",
      "Time: 7.5 Concentration: 19.96\n",
      "Time: 7.6 Concentration: 19.97\n",
      "Time: 7.7 Concentration: 19.97\n",
      "Time: 7.8 Concentration: 19.97\n",
      "Time: 7.9 Concentration: 19.97\n",
      "Time: 8.0 Concentration: 19.98\n",
      "Time: 8.1 Concentration: 19.98\n",
      "Time: 8.2 Concentration: 19.98\n",
      "Time: 8.3 Concentration: 19.98\n",
      "Time: 8.4 Concentration: 19.98\n",
      "Time: 8.5 Concentration: 19.98\n",
      "Time: 8.6 Concentration: 19.99\n",
      "Time: 8.7 Concentration: 19.99\n",
      "Time: 8.8 Concentration: 19.99\n",
      "Time: 8.9 Concentration: 19.99\n",
      "Time: 9.0 Concentration: 19.99\n",
      "Time: 9.1 Concentration: 19.99\n",
      "Time: 9.2 Concentration: 19.99\n",
      "Time: 9.3 Concentration: 19.99\n",
      "Time: 9.4 Concentration: 19.99\n",
      "Time: 9.5 Concentration: 19.99\n",
      "Time: 9.6 Concentration: 19.99\n",
      "Time: 9.7 Concentration: 19.99\n",
      "Time: 9.8 Concentration: 19.99\n",
      "Time: 9.9 Concentration: 20.0\n",
      "Time: 10.0 Concentration: 20.0\n"
     ]
    }
   ],
   "source": [
    "# Define the constants in our system\n",
    "k = 0.2  # Dissolution rate constant (L/min)\n",
    "A = 2   # Surface area (cm^2)\n",
    "Cs = 20 # Saturation concentration (mg/L)\n",
    "V = 0.5    # Volume (L)\n",
    "\n",
    "# Initial conditions\n",
    "C = 0       # Initial drug concentration (mg/L)\n",
    "time_step = 0.1  # Time step for simulation (minutes)\n",
    "total_time = 10  # Total simulation time (minutes)\n",
    "\n",
    "# Simulate dissolution over time\n",
    "for t in range(int(total_time / time_step) + 1):\n",
    "    current_time = round(t * time_step,2)  # Calculate current time\n",
    "    dC_dt = (k * A * (Cs - C)) / V  # Calculate rate of dissolution\n",
    "    C += dC_dt * time_step          # Update concentration\n",
    "    print(\"Time: \" + str(current_time) + \" Concentration: \" + str(round(C,2))) # Here we add all the strings together to print"
   ]
  },
  {
   "cell_type": "markdown",
   "id": "b40822ca-82d1-46a1-b0c0-1c9e6cdf70ef",
   "metadata": {},
   "source": [
    "# Exercises"
   ]
  },
  {
   "cell_type": "markdown",
   "id": "586c9897-24dc-4144-9c7c-1a64a3b0afd6",
   "metadata": {},
   "source": [
    "These exercises are designed to get you to use python in \"realistic\" tasks - they involve a problem, some details of how you solve them, and then have space for you to attempt an answer.\n",
    "\n",
    "The use of ChatGPT and other language tools is __encouraged__."
   ]
  },
  {
   "cell_type": "markdown",
   "id": "4088967b-807b-4b0d-a643-4fb48037c9fc",
   "metadata": {},
   "source": [
    "## Exercise 1: Calculating the size of a nanoparticle during nanomilling"
   ]
  },
  {
   "cell_type": "markdown",
   "id": "88d8a523-0b3c-4bbe-9206-8eced57ecc09",
   "metadata": {},
   "source": [
    "\n",
    "When producing nanoparticles, one process they can be exposed to is \"nano grinding\" where they are milled to an even size. In this process the particle size decreases at a constant rate that is proportional to their current size based on:\n",
    "\n",
    "+ $k$: the rate constant of degredation\n",
    "+ $S$: the current particle size\n",
    "\n",
    "$\\LARGE\\frac{dS}{dt} = -k * S$\n",
    "\n",
    "Try and complete the code below to simulate the decrease in particle size over time"
   ]
  },
  {
   "cell_type": "code",
   "execution_count": 7,
   "id": "efab3787-fd96-4270-a51a-9f3708193439",
   "metadata": {},
   "outputs": [
    {
     "name": "stdout",
     "output_type": "stream",
     "text": [
      "Time: 0 Size: 500\n",
      "Time: 1 Size: 500\n",
      "Time: 2 Size: 500\n",
      "Time: 3 Size: 500\n",
      "Time: 4 Size: 500\n",
      "Time: 5 Size: 500\n",
      "Time: 6 Size: 500\n",
      "Time: 7 Size: 500\n",
      "Time: 8 Size: 500\n",
      "Time: 9 Size: 500\n",
      "Time: 10 Size: 500\n",
      "Time: 11 Size: 500\n",
      "Time: 12 Size: 500\n",
      "Time: 13 Size: 500\n",
      "Time: 14 Size: 500\n",
      "Time: 15 Size: 500\n",
      "Time: 16 Size: 500\n",
      "Time: 17 Size: 500\n",
      "Time: 18 Size: 500\n",
      "Time: 19 Size: 500\n",
      "Time: 20 Size: 500\n",
      "Time: 21 Size: 500\n",
      "Time: 22 Size: 500\n",
      "Time: 23 Size: 500\n",
      "Time: 24 Size: 500\n",
      "Time: 25 Size: 500\n",
      "Time: 26 Size: 500\n",
      "Time: 27 Size: 500\n",
      "Time: 28 Size: 500\n",
      "Time: 29 Size: 500\n",
      "Time: 30 Size: 500\n"
     ]
    }
   ],
   "source": [
    "initial_size = 500 # The initial particle size (nm)\n",
    "k = 0.1 # The rate of degredation (1/min)\n",
    "time_step = 1 # Time step (minutes)\n",
    "total_time = 30 # Total time (minutes)\n",
    "\n",
    "size = initial_size\n",
    "\n",
    "for time in range(0, total_time +1):\n",
    "    print(\"Time: \" + str(time) + \" Size: \" + str(size))\n",
    "    #size -= #### Insert your own code here to update the size based on the equation above and the timestep"
   ]
  },
  {
   "cell_type": "markdown",
   "id": "aab9fe6b-d21b-4a11-8132-a4652470c129",
   "metadata": {},
   "source": [
    "## Exercise 2: Drug loading into nanoparticles"
   ]
  },
  {
   "cell_type": "markdown",
   "id": "e5c3b195-3f0f-43b9-9409-188ae397ee45",
   "metadata": {},
   "source": [
    "You are formulating drug loaded nanoparticles - and you need to calculate the drug loading efficiency for different batches. The equation for the loading efficiency is:\n",
    "\n",
    "$\\Large\\text{Loading Efficiency} = \\frac{\\text{Mass of Drug Loaded}}{\\text{Total Mass of Nanoparticles}} * 100$\n",
    "\n",
    "See if you can write a function called something like `loading_efficiency` that takes a drug and nanoparticle mass and returns the loading efficiency.\n",
    "\n",
    "Then use this function for the following 3 drug and nanoparticle mass pairs and calculate the loading efficiency:\n",
    "\n",
    "| Pair | Drug Mass | Nanoparticle Mass |\n",
    "| --- | --- | --- |\n",
    "| Pair 1 | 5 | 50 |\n",
    "| Pair 2 | 7.5 | 60 |\n",
    "| Pair 3 | 6 | 55 |\n",
    "\n"
   ]
  },
  {
   "cell_type": "code",
   "execution_count": null,
   "id": "d5c8c6d3-0d22-4907-beb6-a5160b685a58",
   "metadata": {},
   "outputs": [],
   "source": [
    "def loading_efficiency(drug_mass, nanoparticle_mass):\n",
    "    ## Write your function here"
   ]
  },
  {
   "cell_type": "markdown",
   "id": "339f7457-5c7d-4777-a418-e0d272df0371",
   "metadata": {},
   "source": [
    "## Exercise 3: Calculating the percentage similarity of two tablet dissolution experiments"
   ]
  },
  {
   "cell_type": "markdown",
   "id": "02ff4480-7b3d-4eca-bdae-fc10888ba72a",
   "metadata": {},
   "source": [
    "You've tested two tablet formulations to determine how quickly they dissolve over time. The aim is to compare their average percentage dissolution to identify which formulation dissolves faster, and by how much.\n",
    "\n",
    "Below there are two lists of numbers representing the dissolution profiles of the two tablets.\n",
    "\n",
    "Calculate the average dissolution percentage over the experiments, and then calculate the percentage difference. \n",
    "\n",
    "The percentage difference can be obtained using the formula:\n",
    "\n",
    "$\\Large\\text{Percentage Difference} = \\frac{|A - B|}{\\frac{A + B}{2}} * 100$\n",
    "\n",
    "Note: $| A - B | $ means \"absolute difference between A and B\". This can be calculated using the `abs` function in python"
   ]
  },
  {
   "cell_type": "code",
   "execution_count": null,
   "id": "c6422264-ccf1-40f0-9b3d-d803184bc2ea",
   "metadata": {},
   "outputs": [],
   "source": [
    "formulation_A = [20, 40, 60, 75, 85, 95] # percentage dissolved from formulation A\n",
    "formulation_B = [10, 30, 55, 70, 80, 90] # percentage dissolved from formulation B\n",
    "\n",
    "# First calculate the average of each list\n",
    "\n",
    "# Second calculate the percentage difference"
   ]
  },
  {
   "cell_type": "markdown",
   "id": "fc77ceb1-8a1d-4b68-aa3e-77f6c5960204",
   "metadata": {},
   "source": [
    "## Exercise 4: Dose adjustment for based on renal impairment"
   ]
  },
  {
   "cell_type": "markdown",
   "id": "89c2c3a4-8eb8-4633-97d3-785aaf59c1c1",
   "metadata": {},
   "source": [
    "In pharmacokinetics, dose adjustments are often required for patients with renal impairment to ensure safety and efficacy. The Cockcroft-Gault equation is commonly used to estimate creatinine clearance (CrCl), a measure of renal function. The equation is as follows:\n",
    "\n",
    "$\\Large\\text{Creatinine Clearance (CrCl)} = \\frac{{(140 - \\text{Age}) \\times \\text{Weight} \\times \\text{Gender Factor}}}{{72 \\times \\text{Serum Creatinine}}}$\n",
    "\n",
    "Where:\n",
    "\n",
    "- __Age__ is in years.\n",
    "- __Weight__ is in kg.\n",
    "- __Serum creatinine (Scr)__ is in mg/dL.\n",
    "- __Gender factor__ is 1 for males and 0.85 for females.\n",
    "\n",
    "The dose is then adjusted according to the following table:\n",
    "\n",
    "| Creatinine Clearance (mL/min) | Dose Adjustment     |\n",
    "|-------------------------------|---------------------|\n",
    "| ≥ 90                          | 100% (normal dose) |\n",
    "| 60–89                         | 75% of normal dose |\n",
    "| 30–59                         | 50% of normal dose |\n",
    "| < 30                          | Avoid use          |\n",
    "\n",
    "\n",
    "\n",
    "Write a function that takes in a patient profile and calculates their Creatine Clearance, then, for the following two patients estimate the percentage dose they should be given:\n",
    "\n",
    "__Patient A:__\n",
    "- Age: 65 years\n",
    "- Weight: 70 kg\n",
    "- Serum creatinine: 1.2 mg/dL\n",
    "- Gender: Male\n",
    "  \n",
    "__Patient B:__\n",
    "- Age: 72 years\n",
    "- Weight: 60 kg\n",
    "- Serum creatinine: 1.8 mg/dL\n",
    "- Gender: Female"
   ]
  },
  {
   "cell_type": "code",
   "execution_count": 1,
   "id": "a35d45e0-0f48-4b3b-9cdd-7e05210fc125",
   "metadata": {},
   "outputs": [],
   "source": [
    "## Include your answer here"
   ]
  },
  {
   "cell_type": "markdown",
   "id": "b0b0d591-0c0f-4bee-8346-268d4f2188a1",
   "metadata": {},
   "source": [
    "## Exercise 4: $f1$ difference and $f2$ similarity factors"
   ]
  },
  {
   "cell_type": "markdown",
   "id": "4ba4c1dd-5023-4eb6-a0a3-b05f4df1ee69",
   "metadata": {},
   "source": [
    "As an advanced exercise - in reality, to compare two dissolution profiles the EMA, FDA, and MHRA use two equations, the $f1$ difference and $f2$ similarity factors.\n",
    "\n",
    "$f1$ difference factor:\n",
    "\n",
    "$\\Large f1 = \\frac{| \\text{Total sum of differences between Reference and Test} |}{\\text{Total sum of Reference}} * 100$\n",
    "\n",
    "$f2$ similarity factor:\n",
    "\n",
    "$\\Large f2 = 50 * log(\\frac{100}{\\sqrt{1 + \\text{Averge squared difference between Reference and Test}}})$\n",
    "\n",
    "See if you can write two functions to calculate the f1 and f2 for a pair of dissolution profiles.\n",
    "\n",
    "Note: This would be a good task to see if chatGPT/LLMs can help you"
   ]
  },
  {
   "cell_type": "code",
   "execution_count": 104,
   "id": "d919676d-95c5-47cf-9ed6-c64c5e456307",
   "metadata": {},
   "outputs": [],
   "source": [
    "formulation_A = [20, 40, 60, 75, 85, 95] # percentage dissolved from formulation A\n",
    "formulation_B = [10, 30, 55, 70, 80, 90] # percentage dissolved from formulation B"
   ]
  },
  {
   "cell_type": "code",
   "execution_count": null,
   "id": "5047903a-fb24-4401-bffc-fc9471a2e589",
   "metadata": {},
   "outputs": [],
   "source": []
  }
 ],
 "metadata": {
  "kernelspec": {
   "display_name": "Python 3 (ipykernel)",
   "language": "python",
   "name": "python3"
  },
  "language_info": {
   "codemirror_mode": {
    "name": "ipython",
    "version": 3
   },
   "file_extension": ".py",
   "mimetype": "text/x-python",
   "name": "python",
   "nbconvert_exporter": "python",
   "pygments_lexer": "ipython3",
   "version": "3.11.8"
  }
 },
 "nbformat": 4,
 "nbformat_minor": 5
}
