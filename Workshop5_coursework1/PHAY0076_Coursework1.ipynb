{
 "cells": [
  {
   "cell_type": "markdown",
   "id": "15a9ab33-e405-42eb-87f3-4b711b1bcaff",
   "metadata": {},
   "source": [
    "# Coursework 1"
   ]
  },
  {
   "cell_type": "markdown",
   "id": "39433d88-d702-4a32-9463-745be828f510",
   "metadata": {},
   "source": [
    "## IMPORTANT ## - Once you have finished, save your workbook with your student number at the end of the file name, and please save this file as a .html using file -> save and export notebook as -> html"
   ]
  },
  {
   "cell_type": "markdown",
   "id": "9eac640e-4fc0-48c6-9393-e02542d75d5c",
   "metadata": {},
   "source": [
    "### Please also enter your student number here:"
   ]
  },
  {
   "cell_type": "markdown",
   "id": "7c54fa36-9ddf-493e-98a3-47dea65f2b97",
   "metadata": {},
   "source": [
    "Student number:"
   ]
  },
  {
   "cell_type": "markdown",
   "id": "c76ba530-add4-4b71-bbf3-a9e98248a5b0",
   "metadata": {},
   "source": [
    "## Context\n",
    "\n",
    "A pharmaceutical company is developing a new tablet formulation for a pain-relief medication. The goal is to analyze different formulations with varying ingredient compositions and determine how they affect dissolution rate, stability, and bioavailability.\n",
    "\n",
    "Each formulation consists of:\n",
    "\n",
    "- __Active Ingredient (%)__: The proportion of the active pharmaceutical ingredient (API) in the tablet.\n",
    "- __Filler (%)__: The proportion of excipients (e.g., lactose, cellulose) used as fillers.\n",
    "- __Binder (%)__: The proportion of binders (e.g., PVP, starch) to help tablet cohesion.\n",
    "- __Disintegrant (%)__: The proportion of disintegrants (e.g., croscarmellose) to help tablet dissolution.\n",
    "- __Lubricant (%)__: The proportion of lubricants (e.g., magnesium stearate) to aid manufacturing.\n",
    "\n",
    "- You also realise you can bin the Active Ingredient into three categories (__API_group__) - Low (<= 15%), Medium (> 15% and <= 30%), and High (> 30%)\n",
    "\n",
    "The company is tracking __key formulation outcomes__:\n",
    "\n",
    "- __DissolutionRate (% dissolved in 30 min)__ – Higher values indicate faster drug release.\n",
    "- __Stability (% remaining after 6 months at 40°C/75%RH)__ – Higher values indicate better stability.\n",
    "- __Bioavailability (AUC in plasma, normalized to 100)__ – Measures drug absorption efficiency.\n",
    "\n",
    "The data is available in an excel file called \"drug_formulation_data.xlsx\" which is available in the github repository."
   ]
  },
  {
   "cell_type": "markdown",
   "id": "a4efcd7a-b4a5-4a3b-aca1-e21ad701908b",
   "metadata": {},
   "source": [
    "# Section 1: Load the dataframe into python using pandas. \n",
    "\n",
    "Tasks: \n",
    "- Look at the data\n",
    "- Load the data into python\n",
    "- Calculate some metrics (mean of columns, std of columns etc.) for the data\n",
    "\n",
    "Questions:\n",
    "1. Are there any missing values in the data? How would you recommend handling missing data in the event there is any? (10% of marks)\n",
    "2. What observations do you make from the metrics you have calculated? (10% of marks)"
   ]
  },
  {
   "cell_type": "code",
   "execution_count": 1,
   "id": "a9e25ff2-5b94-4e47-84e8-bdb2fe469e91",
   "metadata": {},
   "outputs": [],
   "source": [
    "#Insert your code and answers here"
   ]
  },
  {
   "cell_type": "markdown",
   "id": "a90348b7-1218-4972-8825-36f0f2496ecd",
   "metadata": {},
   "source": [
    "## Section 2: Plotting the data\n",
    "\n",
    "Tasks: \n",
    "- Create histograms of DissolutionRate, Stability, and Bioavailability\n",
    "- Create a scatter plot of:\n",
    "    - ActiveIngredient(%) vs. DissolutionRate(%)\n",
    "    - ActiveIngredient(%) vs. Bioavialability(%)\n",
    "- Create a box plot for the stability of the different groups of API amount (low, medium, and high)\n",
    "\n",
    "Questions:\n",
    "\n",
    "3. What do the distributions of the dissolution rate, stability, and bioavailability show? What is the implication of this on further analysis like statistics? (10% of marks)\n",
    "4. How does the amount of Active Ingredient change the formulations? What does this tell you about the formulations? (10% of marks)"
   ]
  },
  {
   "cell_type": "code",
   "execution_count": 2,
   "id": "328596f7-2b26-4852-8795-911fad25df51",
   "metadata": {},
   "outputs": [],
   "source": [
    "# Insert your code and answers here"
   ]
  },
  {
   "cell_type": "markdown",
   "id": "5163d36c-3ea9-4569-8085-36d8b5d2fbd9",
   "metadata": {},
   "source": [
    "## Section 3: Statistical tests\n",
    "\n",
    "Tasks: \n",
    "- Perform an ANOVA to compare the Stability between the API groups (low, medium, and high)\n",
    "- Calculate a p-value for the correlation between the Stability and Binder percentages, and the Dissolution Rate and Active Ingredient percentages\n",
    "\n",
    "Questions (explain your answers):\n",
    "\n",
    "5. Are any statistical differences in the stability between the API groups? Explain your answer and working. (10% of marks)\n",
    "6. Are any observed correlations between the Active Ingredient percentages and Bioavailability/Dissolution rate significant? Explain your answer and working. (10% of marks)"
   ]
  },
  {
   "cell_type": "code",
   "execution_count": 3,
   "id": "4144c6af-78e9-402d-928d-fdddbadddb9d",
   "metadata": {},
   "outputs": [],
   "source": [
    "# Insert your code and answers here"
   ]
  },
  {
   "cell_type": "markdown",
   "id": "05cce784-d593-498b-aac2-a43e3ea9f88f",
   "metadata": {},
   "source": [
    "## Section 4: Unsupervised Learning \n",
    "\n",
    "Tasks: \n",
    "- Perform PCA on the numeric columns from the dataframe\n",
    "- Plot the PCA with the treatment groups coloured differently\n",
    "- Perform clustering analysis on the same column\n",
    "- Plot the results of the clustering analysis on the PCA \n",
    "\n",
    "Questions:\n",
    "\n",
    "7. What does the PCA show? (10% of marks)\n",
    "8. How does your clustering analysis compare to the API groups? (10% of marks)"
   ]
  },
  {
   "cell_type": "code",
   "execution_count": 4,
   "id": "7c608cc6-0388-4995-b93f-f81ae5a8ab71",
   "metadata": {},
   "outputs": [],
   "source": [
    "# Insert your code and answers here"
   ]
  },
  {
   "cell_type": "markdown",
   "id": "fca004a3-49ce-4e6b-8ae5-f41ef7fb6f30",
   "metadata": {},
   "source": [
    "## Section 5: Summary\n",
    "\n",
    "Question 9: Having performed your analysis of the data, you should now have a reasonable idea of the findings, limitations, and overall conclusions. Write a short (~5 sentance) summary of the results of the study, including statistical findings, and what this means for the formulations being tested - in particular, what key findings would you present to colleagues who are trying to optimise the formulation? (20% of the marks)"
   ]
  },
  {
   "cell_type": "code",
   "execution_count": 5,
   "id": "c710f73b-fdab-4902-8643-a467404306ab",
   "metadata": {},
   "outputs": [],
   "source": [
    "# Insert your answers here"
   ]
  },
  {
   "cell_type": "code",
   "execution_count": null,
   "id": "776a2f87-7c62-49a4-9a49-1536f386a20a",
   "metadata": {},
   "outputs": [],
   "source": []
  }
 ],
 "metadata": {
  "kernelspec": {
   "display_name": "Python 3 (ipykernel)",
   "language": "python",
   "name": "python3"
  },
  "language_info": {
   "codemirror_mode": {
    "name": "ipython",
    "version": 3
   },
   "file_extension": ".py",
   "mimetype": "text/x-python",
   "name": "python",
   "nbconvert_exporter": "python",
   "pygments_lexer": "ipython3",
   "version": "3.11.8"
  }
 },
 "nbformat": 4,
 "nbformat_minor": 5
}
