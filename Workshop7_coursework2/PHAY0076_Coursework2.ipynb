{
 "cells": [
  {
   "cell_type": "markdown",
   "id": "8835f278-6a95-473b-86a2-520feeb56f8d",
   "metadata": {},
   "source": [
    "# Coursework 2\n",
    "\n",
    "## IMPORTANT ## - Once you have finished, save your workbook with your candidate number at the end of the file name, and please save this file as a .html using file -> save and export notebook as -> html"
   ]
  },
  {
   "cell_type": "markdown",
   "id": "d3b3d20e-d207-4f47-b89e-b317ec8d81aa",
   "metadata": {},
   "source": [
    "### Please also enter your candidate number below:"
   ]
  },
  {
   "cell_type": "markdown",
   "id": "3364f9a7-be15-43eb-83b0-3b5bf46c29d7",
   "metadata": {},
   "source": [
    "Candidate number:"
   ]
  },
  {
   "cell_type": "markdown",
   "id": "54c42d12-44be-44c3-b521-e9633dab7340",
   "metadata": {},
   "source": [
    "### This coursework takes the form of two scenarios, and in each you are expected to fit a supervised machine learning model to some data. __The choice of/accuracy of your models does not matter__ - the assesment is about how you prepare your data, and how you apply a model succesfully, not about your actual results."
   ]
  },
  {
   "cell_type": "markdown",
   "id": "809af15c-2adf-44d7-9a5c-ba6011f31e11",
   "metadata": {},
   "source": [
    "# Scenario 1 (50% of the mark total)\n",
    "\n",
    "You are working for a pharmaceutical company who are testing a new drug. You want to predict whether a patient will respond positively to the drug based on the clinical and genetic data you have collected.\n",
    "\n",
    "You have historic data from 500 patients who were given the drug - these patients have been enrolled on a clinical trial and are recorded as responding to the drug or not.\n",
    "\n",
    "The data the company have collected for each patient are:\n",
    "\n",
    "- The patients age\n",
    "- The patients Body Mass Index (BMI)\n",
    "- A measure of the patients systolic blood pressure at time of enrolment (mmHg)\n",
    "- The expression level of two gene markers which are recorded as a relative expression value for each patient\n",
    "\n",
    "The response variable is a binary value determining whether a patient responds (1) or does not respond (0) to the drug.\n",
    "\n",
    "This data is stored in the excel file named: __Scenario1_drug_response_data.xlsx__\n",
    "\n",
    "### Task: \n",
    "#### Using best practice, fit __two__ different types of machine learning models to this dataset to predict whether a patient will respond or not to the drug based on their clinical characteristics, then answer the questions below. (30% of the marks)\n",
    "\n",
    "Any machine learning model will do - for example a random forest classifier and a logistic regression.\n",
    "\n",
    "As part of your answer - report the accuracy of your two models in an appropriate way (eg. with a graph or score)."
   ]
  },
  {
   "cell_type": "code",
   "execution_count": null,
   "id": "b494fc1a-7976-460d-b9ba-6a94895c9669",
   "metadata": {},
   "outputs": [],
   "source": [
    "### Write your coding answers here."
   ]
  },
  {
   "cell_type": "markdown",
   "id": "7642c01d-6a5b-4235-81ef-b2c681938c3f",
   "metadata": {},
   "source": [
    "## Questions Scenario 1:\n",
    "\n",
    "#### Question 1: How did you prepare the data before you fit the model to it? With reference to the models you used, why did you perform this preparation? (2/3 sentences - 10% of the marks)\n",
    "\n",
    "#### Question 2: How have you assessed the performance of your models? Which of the two would you select to use for future collected data and why? (2/3 sentences - 10% of the marks)"
   ]
  },
  {
   "cell_type": "raw",
   "id": "94578e93-1b33-42f1-abcc-0c59dedb39bb",
   "metadata": {},
   "source": [
    "Write your answers here:"
   ]
  },
  {
   "cell_type": "markdown",
   "id": "0d373c9f-813f-4283-a0b7-ea3880fe921a",
   "metadata": {},
   "source": [
    "# Scenario 2 (50% of the marks total)\n",
    "\n",
    "You are performing academic research on oral drug availability. You want to predict the activity of a drug in a patient given some of its molecular properties.\n",
    "\n",
    "You have a dataset of 500 drugs, for which you have a series of molecular properties, and an activity score, which is relative. \n",
    "\n",
    "The data is saved in the file named __Scenario2_drug_activity_data.xlsx__\n",
    "\n",
    "### Task: \n",
    "#### Using best practice, fit a machine learning model to the dataset to predict the activity score. (25% of the marks) then answer the questions below.\n",
    "\n",
    "Report the accuracy of your model in an appropriate way (eg. with a graph or score)\n",
    "\n"
   ]
  },
  {
   "cell_type": "code",
   "execution_count": null,
   "id": "78a767cc-e5e8-4b28-b766-823848822848",
   "metadata": {},
   "outputs": [],
   "source": [
    "### Write your coding answers here."
   ]
  },
  {
   "cell_type": "markdown",
   "id": "b4d16704-44c8-4bbf-b963-411f10f94ba5",
   "metadata": {},
   "source": [
    "### Questions Scenario 2:\n",
    "\n",
    "#### Question 3: Which scoring function did you use to fit the model? Why did you choose this one? (2/3 sentences - 5% of the mark)\n",
    "\n",
    "#### Question 4: Discuss potential limitations of your model and suggest further improvements, what might you do in the real world to try and improve its predictive power? (4/5 sentences - 10% of the mark)\n",
    "\n",
    "#### Question 5: What are some practical challenges in applying supervised machine learning in a pharmaceutical setting? Consider data quality, regulatory constraints, and model interpretability. (4/5 sentences - 10% of the marks)"
   ]
  },
  {
   "cell_type": "markdown",
   "id": "1a34b56f-5677-4657-9a64-c8e814976ffc",
   "metadata": {},
   "source": [
    "Write your answers here:"
   ]
  }
 ],
 "metadata": {
  "kernelspec": {
   "display_name": "Python 3 (ipykernel)",
   "language": "python",
   "name": "python3"
  },
  "language_info": {
   "codemirror_mode": {
    "name": "ipython",
    "version": 3
   },
   "file_extension": ".py",
   "mimetype": "text/x-python",
   "name": "python",
   "nbconvert_exporter": "python",
   "pygments_lexer": "ipython3",
   "version": "3.11.8"
  }
 },
 "nbformat": 4,
 "nbformat_minor": 5
}
